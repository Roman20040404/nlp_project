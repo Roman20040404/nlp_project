{
  "nbformat": 4,
  "nbformat_minor": 0,
  "metadata": {
    "colab": {
      "provenance": []
    },
    "kernelspec": {
      "name": "python3",
      "display_name": "Python 3"
    },
    "language_info": {
      "name": "python"
    }
  },
  "cells": [
    {
      "cell_type": "markdown",
      "source": [
        "Для моего проекта я использую следующие модули: bs4 [BeautifulSoup] (для скачивания данных с сайта), pymorphy2 [MorphAnalyzer] (для морфологического анализа), requests (для получения доступа к сайту), string [punctuation] для получения всех знаков препинания, re (для создания паттернов для разделения на предложения и для поиска ngram-ов)."
      ],
      "metadata": {
        "id": "z_bLZZGPLtrS"
      }
    },
    {
      "cell_type": "code",
      "execution_count": null,
      "metadata": {
        "id": "jRgJ5TnCPyMN"
      },
      "outputs": [],
      "source": [
        "from bs4 import BeautifulSoup\n",
        "from string import punctuation\n",
        "from pymorphy2 import MorphAnalyzer\n",
        "morph = MorphAnalyzer()\n",
        "import requests\n",
        "session = requests.session()\n",
        "import re"
      ]
    },
    {
      "cell_type": "markdown",
      "source": [
        "C помощью функции tokenization я токенизирую предложения, очищаю их от знаков препинания и при необходимости провожу лемматизацию (что задается логической переменной flag)."
      ],
      "metadata": {
        "id": "23RPZkpVNGtR"
      }
    },
    {
      "cell_type": "code",
      "source": [
        "def tokenization(feedback, flag):\n",
        "  liste = []\n",
        "  for i in feedback.split():\n",
        "    i = i.strip(punctuation)\n",
        "    if i.isalpha():\n",
        "      if flag == True:\n",
        "        i = morph.parse(i.lower())[0].normal_form\n",
        "      liste.append(i.lower())\n",
        "  return liste"
      ],
      "metadata": {
        "id": "ScUOArKhSrZ3"
      },
      "execution_count": null,
      "outputs": []
    },
    {
      "cell_type": "markdown",
      "source": [
        "Функция pos определяет часть речи слов поступившего к ней предложения. Функция возвращает результат в виде последовательности тегов частей речи каждого из слов предложения."
      ],
      "metadata": {
        "id": "VJ5AyLSGRVT8"
      }
    },
    {
      "cell_type": "code",
      "source": [
        "def pos(mot):\n",
        "  for i in range(len(mot)):\n",
        "    mot[i] = str(morph.parse(mot[i])[0].tag.POS)\n",
        "  return ' '.join(mot)"
      ],
      "metadata": {
        "id": "by1CfM1LA84Z"
      },
      "execution_count": null,
      "outputs": []
    },
    {
      "cell_type": "markdown",
      "source": [
        "Данная функция возвращает последовательность частеречных тегов для слов предложения, искючая слова, которые были даны в исходном запросе (при смешанном исходном запросе - слово & тег)."
      ],
      "metadata": {
        "id": "xxXeB-IfR7HD"
      }
    },
    {
      "cell_type": "code",
      "source": [
        "def pos_word(word, untouched):\n",
        "  for i in range(len(word)):\n",
        "    if word[i] not in untouched:\n",
        "      word[i] = str(morph.parse(word[i])[0].tag.POS)\n",
        "  return ' '.join(word)"
      ],
      "metadata": {
        "id": "TW-zx689MlXK"
      },
      "execution_count": null,
      "outputs": []
    },
    {
      "cell_type": "markdown",
      "source": [
        "Скачиваем с сайта тексты произведений одного автора и их названия. Тексты разделяем на предложения с помощью регулярного выражения. В исходно созданный словарь по ключу названия произведения записываем в качестве значения список предложений текста."
      ],
      "metadata": {
        "id": "yos_0GUgSqND"
      }
    },
    {
      "cell_type": "code",
      "source": [
        "title_phrases = dict()\n",
        "for n in range(0, 101, 50):\n",
        "  link = \"https://proza.ru/avtor/adacva1&s=\" + str(n)\n",
        "  soup = BeautifulSoup(session.get(link).text)\n",
        "  refer = soup.find_all('a', {'class':\"poemlink\"})\n",
        "  list_of_phrases = []\n",
        "  for i in refer:\n",
        "    story = 'https://proza.ru' + i['href']\n",
        "    soup1 = BeautifulSoup(session.get(story).text)\n",
        "    text = soup1.find('div', {'class':'text'})\n",
        "    title = soup1.find('h1')\n",
        "    title_phrases[title.text] = text.text\n",
        "    pattern = re.compile(r'([А-ЯA-Z]((т.п.|т.д.|пр.|г.)|[^?!.\\(]|\\([^\\)]*\\))*[.?!])')\n",
        "    for j, sent in enumerate(pattern.findall(title_phrases[title.text])):\n",
        "        list_of_phrases.append(sent[0].replace(\"\\n\", \" \"))\n",
        "    title_phrases[title.text] = list_of_phrases.copy()\n",
        "    list_of_phrases.clear()"
      ],
      "metadata": {
        "id": "VQaxiXSySyUo"
      },
      "execution_count": null,
      "outputs": []
    },
    {
      "cell_type": "markdown",
      "source": [
        "Функция, осуществляющая непосредственно поиск по заданному шаблону - search. Для начала проверяем имеются ли в заданном шаблоне двойные кавычки или одинарные, записываем это в переменную fla. Проверяем содержатся ли в запросе теги, и содержатся ли только теги или теги + слова - отмечаем это в соответствующих логических переменных. Далее проходимся по ключам & значениям словаря, конкретно по значениям. Затем исходя из типа запроса действуем определенным образом, возможные варианты: только теги, теги + слова, слова только в одной форме, слова во всех формах. Если по шаблону находится искомый запрос, то печатается предложение. В конце выдается общее число найденных предложенных."
      ],
      "metadata": {
        "id": "Nl_5lJvHTzMJ"
      }
    },
    {
      "cell_type": "code",
      "source": [
        "def search(sequence):\n",
        "  count = 0\n",
        "  parts_os = ['NOUN', 'ADJF', 'ADJS', 'COMP', 'VERB', 'INFN', 'PRTF', 'PRTS',\n",
        "      'GRND', 'NUMR', 'ADVB', 'NPRO', 'PRED', 'PREP', 'CONJ',\n",
        "      'PRCL', 'INTJ']\n",
        "  if sequence[0] == '\"':\n",
        "    fla = False\n",
        "  else:\n",
        "    fla = True\n",
        "  pos_search = False\n",
        "  mix = False\n",
        "  untouched = []\n",
        "  for i in sequence.split():\n",
        "    if i in parts_os:\n",
        "      pos_search = True\n",
        "    else:\n",
        "      mix = True\n",
        "      untouched.append(i)\n",
        "  for i in title_phrases.items():\n",
        "    k = i[1]\n",
        "    for j in k:\n",
        "      if pos_search == True and mix == False:\n",
        "        pdd = pos(tokenization(j, flag=False))\n",
        "        pdd_res = re.search(r'\\b' + re.escape(sequence) + r'\\b', pdd)\n",
        "        if pdd_res:\n",
        "          print(j, \"[Из произведения\", '\"' + i[0] + '\"], proza.ru')\n",
        "          count += 1\n",
        "      elif pos_search == True and mix == True:\n",
        "        pdd = pos_word(tokenization(j, flag=False), untouched)\n",
        "        pdd_res = re.search(r'\\b' + re.escape(sequence) + r'\\b', pdd)\n",
        "        if pdd_res:\n",
        "          print(j, \"[Из произведения\", '\"' + i[0] + '\"], proza.ru')\n",
        "          count += 1\n",
        "      else:\n",
        "        if fla == True:\n",
        "          p = ' '.join(tokenization(j, flag=True))\n",
        "          p2 = ' '.join(tokenization(j, flag=False))\n",
        "          tok = ' '.join(tokenization(sequence.strip('\"'), flag=True))\n",
        "          res = re.search(r'\\b' + re.escape(tok) + r'\\b', p)\n",
        "          res1 = re.search(r'\\b' + re.escape(sequence.strip('\"')) + r'\\b', p2)\n",
        "          if res or res1:\n",
        "            print(j, \"[Из произведения\", '\"' + i[0] + '\", proza.ru]')\n",
        "            count += 1\n",
        "        elif fla == False:\n",
        "          p2 = ' '.join(tokenization(j, flag=False))\n",
        "          res1 = re.search(r'\\b' + re.escape(sequence.strip('\"')) + r'\\b', p2)\n",
        "          if res1:\n",
        "            print(j, \"[Из произведения\", '\"' + i[0] + '\", proza.ru]')\n",
        "            count += 1\n",
        "  return 'По запросу ' + sequence + ' найдено ' + str(count) + ' результатов'"
      ],
      "metadata": {
        "id": "4Gf3rcLxmseK"
      },
      "execution_count": null,
      "outputs": []
    },
    {
      "cell_type": "code",
      "source": [
        "print(search('ADJF жизнь'))"
      ],
      "metadata": {
        "colab": {
          "base_uri": "https://localhost:8080/"
        },
        "id": "dKAppG08pLyP",
        "outputId": "b12660ec-664b-447e-c394-6558474b4b38"
      },
      "execution_count": null,
      "outputs": [
        {
          "output_type": "stream",
          "name": "stdout",
          "text": [
            "Военную жизнь видел. [Из произведения \"Дружба - больше дружбы\"], proza.ru\n",
            "Наверное, на всю жизнь шум мне тогда и получила. [Из произведения \"Наследство. К нотариусу\"], proza.ru\n",
            "Тебя, мальчик, буду помнить всю жизнь, - подумала Нина. [Из произведения \"Погреб\"], proza.ru\n",
            "Вера Ивановна мыла посуду и отрывками слушала жалобы женщины на свою жизнь, а больше на мужа, которая с экрана без всякого стеснения вещала об этом. [Из произведения \"О любви по телевизору\"], proza.ru\n",
            "Мне на всю жизнь хватит. [Из произведения \"День с собой\"], proza.ru\n",
            "Как можно представить такую жизнь, если даже государство, созданное при ее жизни,  не сохранилось. [Из произведения \"1. Нора Пфейффер - поэт. Судьба впереди поэзии\"], proza.ru\n",
            "Наступала другая жизнь, другие проблемы и другие заботы. [Из произведения \"1. Нора Пфейффер - поэт. Судьба впереди поэзии\"], proza.ru\n",
            "Книг читать Алексей не любил, реальная жизнь давала ему больше материала для размышлений. [Из произведения \"Вдвоем. В пути\"], proza.ru\n",
            "Так это такая жизнь. [Из произведения \"Мелочи. Квартира со страхом\"], proza.ru\n",
            "На даче были такие особенные телевизионные каналы, были там удивительные фильмы, в которых жизнь существовала в неведомом мире. [Из произведения \"Мелочи. Заботы новой Золушки\"], proza.ru\n",
            "Грустно было расставаться с лесным миром, но уходил молодец в другую жизнь. [Из произведения \"Сказка. В царстве лесном\"], proza.ru\n",
            "Настоящая жизнь замечательного человека. [Из произведения \"Жизнь замечательного сценариста\"], proza.ru\n",
            "Три действия, в первом прекрасная жизнь на планете, во втором действие герои говорят о произошедшей катастрофе, а в третьем действии начинают новую жизнь, веря в свои силы и возрождение планеты. [Из произведения \"Жизнь замечательного сценариста\"], proza.ru\n",
            "Всю остальную часть лета соловьи ведут тихую, скрытную жизнь и не поют. [Из произведения \"Кому поет курский соловей? Девочка\"], proza.ru\n",
            "А в классе шла своя жизнь, дети вставали, отвечали, садились, показывали тетради, а она все писала, отвечая сама на свои вопросы, никого ни о чем не спрашивая. [Из произведения \"Кому поет курский соловей? Девочка\"], proza.ru\n",
            "Не простая жизнь барабана откроется. [Из произведения \"Елена Ива. Военный барабан кленовый\"], proza.ru\n",
            "Друг и подруга Пришел мужчина к давней подруге поговорить, на чужую семейную жизнь посмотреть, у чужого тепла погреться. [Из произведения \"Бытовая притча. Друг и подруга\"], proza.ru\n",
            "По запросу ADJF жизнь найдено 17 результатов\n"
          ]
        }
      ]
    }
  ]
}