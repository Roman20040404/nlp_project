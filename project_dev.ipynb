{
  "nbformat": 4,
  "nbformat_minor": 0,
  "metadata": {
    "colab": {
      "provenance": []
    },
    "kernelspec": {
      "name": "python3",
      "display_name": "Python 3"
    },
    "language_info": {
      "name": "python"
    }
  },
  "cells": [
    {
      "cell_type": "code",
      "execution_count": 6,
      "metadata": {
        "id": "jRgJ5TnCPyMN"
      },
      "outputs": [],
      "source": [
        "from bs4 import BeautifulSoup\n",
        "from string import punctuation\n",
        "from pymorphy2 import MorphAnalyzer\n",
        "morph = MorphAnalyzer()\n",
        "import requests\n",
        "session = requests.session()\n",
        "import re"
      ]
    },
    {
      "cell_type": "code",
      "source": [
        "def tokenization(feedback, flag): #токенизация, очищение от знаков препинания и лемматизация\n",
        "  liste = []\n",
        "  for i in feedback.split():\n",
        "    i = i.strip(punctuation)\n",
        "    if i.isalpha():\n",
        "      if flag == True:\n",
        "        i = morph.parse(i.lower())[0].normal_form\n",
        "      liste.append(i.lower())\n",
        "  return liste"
      ],
      "metadata": {
        "id": "ScUOArKhSrZ3"
      },
      "execution_count": 2,
      "outputs": []
    },
    {
      "cell_type": "code",
      "source": [
        "def tok_words(word):\n",
        "  if isinstance(word, str) == True:\n",
        "    norm = morph.parse(word.lower())[0].normal_form\n",
        "  else:\n",
        "    word = word.split()\n",
        "    if len(word) == 2:\n",
        "      if morph.parse(word[0].lower())[0].tag.POS == 'NOUN':\n",
        "        x = morph.parse(word[0].lower())[0].tag.gender\n",
        "        word[1] = morph.parse(word[1].lower())[0].inflect({x}).word\n",
        "      elif morph.parse(word[1].lower())[0].tag.POS == 'NOUN':\n",
        "        x = morph.parse(word[1].lower())[0].tag.gender\n",
        "        word[0] = morph.parse(word[0].lower())[0].inflect({x}).word\n",
        "      return ' '.join(word)\n",
        "    else:\n",
        "      k = []\n",
        "      for i in word:\n",
        "        k.append(morph.parse(word[i].lower())[0].normal_form)\n",
        "      norm = ' '.join\n",
        "  return norm"
      ],
      "metadata": {
        "id": "cBcJXsKFrbO3"
      },
      "execution_count": 3,
      "outputs": []
    },
    {
      "cell_type": "code",
      "source": [
        "def pos(mot):\n",
        "  for i in range(len(mot)):\n",
        "    mot[i] = str(morph.parse(mot[i])[0].tag.POS)\n",
        "  return ' '.join(mot)"
      ],
      "metadata": {
        "id": "by1CfM1LA84Z"
      },
      "execution_count": 4,
      "outputs": []
    },
    {
      "cell_type": "code",
      "source": [
        "def pos_word(word, untouched):\n",
        "  for i in range(len(word)):\n",
        "    if word[i] not in untouched:\n",
        "      word[i] = str(morph.parse(word[i])[0].tag.POS)\n",
        "  return ' '.join(word)"
      ],
      "metadata": {
        "id": "TW-zx689MlXK"
      },
      "execution_count": 19,
      "outputs": []
    },
    {
      "cell_type": "code",
      "source": [
        "title_phrases = dict()\n",
        "for n in range(0, 101, 50):\n",
        "  link = \"https://proza.ru/avtor/adacva1&s=\" + str(n)\n",
        "  soup = BeautifulSoup(session.get(link).text)\n",
        "  refer = soup.find_all('a', {'class':\"poemlink\"})\n",
        "  list_of_phrases = []\n",
        "  for i in refer:\n",
        "    story = 'https://proza.ru' + i['href']\n",
        "    soup1 = BeautifulSoup(session.get(story).text)\n",
        "    text = soup1.find('div', {'class':'text'})\n",
        "    title = soup1.find('h1')\n",
        "    title_phrases[title.text] = text.text\n",
        "    pattern = re.compile(r'([А-ЯA-Z]((т.п.|т.д.|пр.|г.)|[^?!.\\(]|\\([^\\)]*\\))*[.?!])')\n",
        "    for j, sent in enumerate(pattern.findall(title_phrases[title.text])):\n",
        "        list_of_phrases.append(sent[0])\n",
        "    title_phrases[title.text] = list_of_phrases.copy()\n",
        "    list_of_phrases.clear()"
      ],
      "metadata": {
        "id": "VQaxiXSySyUo"
      },
      "execution_count": 7,
      "outputs": []
    },
    {
      "cell_type": "code",
      "source": [
        "def search(sequence):\n",
        "  count = 0\n",
        "  parts_os = ['NOUN', 'ADJF', 'ADJS', 'COMP', 'VERB', 'INFN', 'PRTF', 'PRTS',\n",
        "      'GRND', 'NUMR', 'ADVB', 'NPRO', 'PRED', 'PREP', 'CONJ',\n",
        "      'PRCL', 'INTJ']\n",
        "  if sequence[0] == '\"':\n",
        "    fla = False\n",
        "  else:\n",
        "    fla = True\n",
        "  pos_search = False\n",
        "  mix = False\n",
        "  untouched = []\n",
        "  for i in sequence.split():\n",
        "    if i in parts_os:\n",
        "      pos_search = True\n",
        "    else:\n",
        "      mix = True\n",
        "      untouched.append(i)\n",
        "  for i in title_phrases.items():\n",
        "    k = i[1]\n",
        "    for j in k:\n",
        "      if pos_search == True and mix == False:\n",
        "        pdd = pos(tokenization(j, flag=False))\n",
        "        pdd_res = re.search(r'\\b' + re.escape(sequence) + r'\\b', pdd)\n",
        "        if pdd_res:\n",
        "          print(j, \"[Из произведения\", '\"' + i[0] + '\"]')\n",
        "          count += 1\n",
        "      elif pos_search == True and mix == True:\n",
        "        pdd = pos_word(tokenization(j, flag=False), untouched)\n",
        "        pdd_res = re.search(r'\\b' + re.escape(sequence) + r'\\b', pdd)\n",
        "        if pdd_res:\n",
        "          print(j, \"[Из произведения\", '\"' + i[0] + '\"]')\n",
        "          count += 1\n",
        "      else:\n",
        "        if fla == True:\n",
        "          p = ' '.join(tokenization(j, flag=True))\n",
        "          p2 = ' '.join(tokenization(j, flag=False))\n",
        "          tok = tok_words(sequence.strip('\"'))\n",
        "          res = re.search(r'\\b' + re.escape(tok) + r'\\b', p)\n",
        "          res1 = re.search(r'\\b' + re.escape(sequence.strip('\"')) + r'\\b', p2)\n",
        "          if res or res1:\n",
        "            print(j, \"[Из произведения\", '\"' + i[0] + '\"]')\n",
        "            count += 1\n",
        "        elif fla == False:\n",
        "          p2 = ' '.join(tokenization(j, flag=False))\n",
        "          res1 = re.search(r'\\b' + re.escape(sequence.strip('\"')) + r'\\b', p2)\n",
        "          if res1:\n",
        "            print(j, \"[Из произведения\", '\"' + i[0] + '\"]')\n",
        "            count += 1\n",
        "  return 'По запросу ' + sequence + ' найдено ' + str(count) + ' результатов'"
      ],
      "metadata": {
        "id": "4Gf3rcLxmseK"
      },
      "execution_count": 22,
      "outputs": []
    },
    {
      "cell_type": "code",
      "source": [
        "print(search('очень ADJF'))"
      ],
      "metadata": {
        "colab": {
          "base_uri": "https://localhost:8080/"
        },
        "id": "dKAppG08pLyP",
        "outputId": "3d28fa13-f0c5-480e-9c01-b97c6ea4db3d"
      },
      "execution_count": 31,
      "outputs": [
        {
          "output_type": "stream",
          "name": "stdout",
          "text": [
            "Конечно, несколько эмоциональной была она, но эмоциями могла управлять, особенно перед не очень близкими людьми. [Из произведения \"Мир шире кухни\"]\n",
            "Но у входа в подъезд стояли Мария и Зинаида, они кормили голубей, оголодавших за холодную зиму и не очень теплую весну. [Из произведения \"Наследство. Деньги - больше денег\"]\n",
            "Очень удобное место в кухне нашла Светлана для телевизора. [Из произведения \"Фильм с борщом\"]\n",
            "Тапочки у нее были даже очень удобные. [Из произведения \"Фильм с борщом\"]\n",
            "Уж очень аккуратной была у мужчины стрижка, - оценила прическу Эдика Марфа. [Из произведения \"Под цветным платком\"]\n",
            "Давно-давно работал он в каком-то научном институте, очень секретном и закрытом. [Из произведения \"Вальс на отдыхе\"]\n",
            "Вот работаю, получу деньги за работу и отнесу в организацию очень хорошую, - начала беседу на интересную для нее тему. [Из произведения \"Будет новая квартира\"]\n",
            "На пороге стояла уж очень молодая женщина, в ярком, но строгом красном костюме. [Из произведения \"Незнакомка в коллективе\"]\n",
            "И та поплелась за ним в спортивный зал, не очень большой, летом все на улице бегали, прыгали и в мяч играли. [Из произведения \"Мелочи. Рука для диска\"]\n",
            "И при каждом упавшем рядом с миской кусочке, издает тревожный звук, не очень громкий, но грозный. [Из произведения \"Мелочи. Новый маленький щенок\"]\n",
            "Очень приятное для меня поручение. [Из произведения \"Этажи. Отдыхай дорогая\"]\n",
            "Она очень слабенькая и нежная, - решительно говорил Егор. [Из произведения \"Мелочи. Упражнение на бревне\"]\n",
            "Казалось, что только здесь ее никто не видит, и не мешает мечтать, о чем-то непонятном, но очень важном. [Из произведения \"Кому поет курский соловей? Девочка\"]\n",
            "Не очень разговорчивые, торопливые, еще ото сна не очнувшиеся. [Из произведения \"Малосольные огурчики\"]\n",
            "Выбирайте, очень крепкие. [Из произведения \"Малосольные огурчики\"]\n",
            "Но это не краткий перечень событий, как журналистские репортажи, и не научные статьи в их очень ограниченном направлении, ограниченном узко научной терминологией, а вроде и массовая, и как бы вроде не просто от впечатления изложение, но в нём есть все, и, самое главное, личное творчество. [Из произведения \"Замороченный писатель Правильная литература\"]\n",
            "Очень хороший и успокаивающий тезис. [Из произведения \"Замороченный писатель Правильная литература\"]\n",
            "В нем все, что требуется молодому или не очень молодому, но начинающему автору. [Из произведения \"Замороченный писатель Правильная литература\"]\n",
            "И Людмила очень хорошая девушка, видная, яркая. [Из произведения \"Этажи. В квартирке на пятом этаже\"]\n",
            "За твою работу, очень ответственную. [Из произведения \"Столы и стулья\"]\n",
            "Очень жесткие. [Из произведения \"Короткое письмо\"]\n",
            "Не очень яркие. [Из произведения \"Притча о достатке\"]\n",
            "Очень хорошее, - согласилась Тамара. [Из произведения \"Трудись, дорогая. Номер на двоих\"]\n",
            "Олег Олегович, легко запомнить, дважды Олег. На ваших методиках диссертацию защитил, очень актуальные методики. [Из произведения \"Трудись, дорогая. Мягкий вагон\"]\n",
            "По запросу очень ADJF найдено 24 результатов\n"
          ]
        }
      ]
    }
  ]
}